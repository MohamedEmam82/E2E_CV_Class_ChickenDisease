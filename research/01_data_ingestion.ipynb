{
 "cells": [
  {
   "cell_type": "code",
   "execution_count": null,
   "id": "78012429",
   "metadata": {},
   "outputs": [],
   "source": []
  },
  {
   "cell_type": "code",
   "execution_count": 2,
   "id": "5d1ac956",
   "metadata": {},
   "outputs": [
    {
     "data": {
      "text/plain": [
       "'c:\\\\Users\\\\oraio\\\\OneDrive\\\\Desktop\\\\AI-ML\\\\projects\\\\Computer Vision\\\\E2E_CV_Class_ChickenDisease\\\\research'"
      ]
     },
     "execution_count": 2,
     "metadata": {},
     "output_type": "execute_result"
    }
   ],
   "source": [
    "import os\n",
    "\n",
    "os.getcwd()"
   ]
  },
  {
   "cell_type": "code",
   "execution_count": 3,
   "id": "5c194808",
   "metadata": {},
   "outputs": [
    {
     "data": {
      "text/plain": [
       "'c:\\\\Users\\\\oraio\\\\OneDrive\\\\Desktop\\\\AI-ML\\\\projects\\\\Computer Vision\\\\E2E_CV_Class_ChickenDisease'"
      ]
     },
     "execution_count": 3,
     "metadata": {},
     "output_type": "execute_result"
    }
   ],
   "source": [
    "os.chdir(\"../\")\n",
    "os.getcwd()"
   ]
  },
  {
   "cell_type": "code",
   "execution_count": 4,
   "id": "a17fdcdd",
   "metadata": {},
   "outputs": [],
   "source": [
    "from dataclasses import dataclass\n",
    "from pathlib import Path\n",
    "\n",
    "@dataclass(frozen=True)\n",
    "class DataIngestionConfig:\n",
    "    root_dir: Path\n",
    "    source_URL: str\n",
    "    local_data_file: Path\n",
    "    unzip_dir: Path\n",
    "\n",
    "\n",
    "#=====================================================================================================================#\n",
    "#=====================================================================================================================#\n",
    "\n",
    "from ChickenDisease.constants import *\n",
    "from ChickenDisease.utils.common_functions import *\n",
    "\n",
    "\n",
    "class ConfigurationManager:\n",
    "    # create a constructor\n",
    "    # create the artifacts_root folder \"artifacts\" described in config.yaml which is the root folder for all other data stages artifacts\n",
    "    def __init__(self, config_filepath=CONFIG_FILE_PATH, params_filepath=PARAMS_FILE_PATH):\n",
    "        self.config = read_yaml(config_filepath)\n",
    "        self.params = read_yaml(params_filepath)\n",
    "        create_directories([self.config.artifacts_root])\n",
    "\n",
    "\n",
    "    # create the \"data_ingestion\" folder inside the \"artifacts\" folder, to store all the data ingestion artifacts\n",
    "    #   - read the data_ingestion section from config.yaml\n",
    "    # create and return the DataIngestionConfig dataclass object \"data_ingestion_config\"\n",
    "    #   - define the attributes of the DataIngestionConfig dataclass from the data_ingestion section of config.yaml\n",
    "    def get_data_ingestion_config(self) -> DataIngestionConfig:\n",
    "        config = self.config.data_ingestion\n",
    "        create_directories([config.root_dir])\n",
    "        data_ingestion_config = DataIngestionConfig(root_dir = config.root_dir,\n",
    "                                                    source_URL = config.source_URL,\n",
    "                                                    local_data_file = config.local_data_file,\n",
    "                                                    unzip_dir = config.unzip_dir)\n",
    "        return data_ingestion_config\n",
    "\n",
    "#=====================================================================================================================#\n",
    "#=====================================================================================================================#\n",
    "\n",
    "import os\n",
    "import urllib.request as request\n",
    "import zipfile\n",
    "from ChickenDisease import logger\n",
    "from ChickenDisease.utils.common_functions import get_size\n",
    "#from ChickenDisease.entity.config_entity import DataIngestionConfig\n",
    "from pathlib import Path\n",
    "\n",
    "\n",
    "# create the DataIngestion class which will do the real work of downloading and extracting the data\n",
    "#  - constructor should take the DataIngestionConfig object as input\n",
    "#  - create the download_file method to download the file from source_URL to local_data_file\n",
    "#  - create the extract_zip_file method to extract the zip file into the unzip_dir\n",
    "class DataIngestion:\n",
    "    def __init__(self, config: DataIngestionConfig):\n",
    "        self.config = config\n",
    "    \n",
    "    def download_file(self):\n",
    "        if not os.path.exists(self.config.local_data_file):\n",
    "            filename, headers = request.urlretrieve(url=self.config.source_URL, \n",
    "                                                     filename=self.config.local_data_file)\n",
    "            logger.info(f\"Downloaded file: {filename} with headers: {headers}\")\n",
    "        else:\n",
    "            logger.info(f\"File already exists: {self.config.local_data_file} with size: {get_size(self.config.local_data_file)} bytes\")\n",
    "    \n",
    "    def extract_zip_file(self):\n",
    "        \"\"\"\n",
    "        zip_file_path: str\n",
    "        Extracts the zip file into the data directory\n",
    "        Function returns None\n",
    "        \"\"\"\n",
    "        unzip_dir_path = self.config.unzip_dir\n",
    "        os.makedirs(name=unzip_dir_path, exist_ok=True)\n",
    "        with zipfile.ZipFile(self.config.local_data_file, 'r') as zipped_content:\n",
    "            zipped_content.extractall(path=unzip_dir_path)\n",
    "            logger.info(msg=f\"Extracted files to: {unzip_dir_path}\")   \n"
   ]
  },
  {
   "cell_type": "code",
   "execution_count": null,
   "id": "a39d5a40",
   "metadata": {},
   "outputs": [
    {
     "name": "stdout",
     "output_type": "stream",
     "text": [
      "[2025-08-30 23:47:43,865: INFO: common_functions: yaml file: config\\config.yaml loaded successfully]\n",
      "[2025-08-30 23:47:43,871: INFO: common_functions: yaml file: params.yaml loaded successfully]\n",
      "[2025-08-30 23:47:43,873: INFO: common_functions: created directory at: artifacts]\n",
      "[2025-08-30 23:47:43,874: INFO: common_functions: created directory at: artifacts/data_ingestion]\n",
      "[2025-08-30 23:51:00,404: INFO: 3575629471: Downloaded file: artifacts/data_ingestion/data.zip with headers: Connection: close\n",
      "Content-Length: 24090578\n",
      "Cache-Control: max-age=300\n",
      "Content-Security-Policy: default-src 'none'; style-src 'unsafe-inline'; sandbox\n",
      "Content-Type: application/zip\n",
      "ETag: \"2b48f3ad00c86862507771e4158ef3ea290cfbdd8a2822abc0ec347563d3fbc0\"\n",
      "Strict-Transport-Security: max-age=31536000\n",
      "X-Content-Type-Options: nosniff\n",
      "X-Frame-Options: deny\n",
      "X-XSS-Protection: 1; mode=block\n",
      "X-GitHub-Request-Id: 8EB6:1C8228:2F0678:354213:68B35561\n",
      "Accept-Ranges: bytes\n",
      "Date: Sat, 30 Aug 2025 19:47:46 GMT\n",
      "Via: 1.1 varnish\n",
      "X-Served-By: cache-mrs1050088-MRS\n",
      "X-Cache: MISS\n",
      "X-Cache-Hits: 0\n",
      "X-Timer: S1756583266.691573,VS0,VE785\n",
      "Vary: Authorization,Accept-Encoding\n",
      "Access-Control-Allow-Origin: *\n",
      "Cross-Origin-Resource-Policy: cross-origin\n",
      "X-Fastly-Request-ID: ea5f1c61dc788d2a00f24087c2dc6c9ad4208881\n",
      "Expires: Sat, 30 Aug 2025 19:52:46 GMT\n",
      "Source-Age: 1\n",
      "\n",
      "]\n",
      "[2025-08-30 23:51:00,827: INFO: 3575629471: Extracted files to: artifacts/data_ingestion]\n"
     ]
    }
   ],
   "source": [
    "# This is the first stage of the data ingestion pipeline for the Chicken Disease Classification project.\n",
    "# It handles downloading the dataset from a specified URL and extracting it from a zip file.\n",
    "# The `DataIngestionTrainingPipeline` class orchestrates the data ingestion process by initializing the configuration,\n",
    "\n",
    "try:\n",
    "    config = ConfigurationManager() \n",
    "    data_ingestion_config = config.get_data_ingestion_config()\n",
    "    data_ingestion = DataIngestion(config=data_ingestion_config)\n",
    "    data_ingestion.download_file()\n",
    "    data_ingestion.extract_zip_file()\n",
    "except Exception as e:\n",
    "    raise e\n"
   ]
  },
  {
   "cell_type": "code",
   "execution_count": null,
   "id": "0a79ce98",
   "metadata": {},
   "outputs": [],
   "source": []
  }
 ],
 "metadata": {
  "kernelspec": {
   "display_name": "mlops",
   "language": "python",
   "name": "python3"
  },
  "language_info": {
   "codemirror_mode": {
    "name": "ipython",
    "version": 3
   },
   "file_extension": ".py",
   "mimetype": "text/x-python",
   "name": "python",
   "nbconvert_exporter": "python",
   "pygments_lexer": "ipython3",
   "version": "3.10.16"
  }
 },
 "nbformat": 4,
 "nbformat_minor": 5
}
